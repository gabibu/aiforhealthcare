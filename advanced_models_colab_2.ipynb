{
  "nbformat": 4,
  "nbformat_minor": 0,
  "metadata": {
    "colab": {
      "name": "advanced_models_colab_2.ipynb",
      "provenance": [],
      "machine_shape": "hm",
      "authorship_tag": "ABX9TyMMYh8cZehWfugsSgSfsTqE",
      "include_colab_link": true
    },
    "kernelspec": {
      "name": "python3",
      "display_name": "Python 3"
    },
    "language_info": {
      "name": "python"
    },
    "accelerator": "GPU"
  },
  "cells": [
    {
      "cell_type": "markdown",
      "metadata": {
        "id": "view-in-github",
        "colab_type": "text"
      },
      "source": [
        "<a href=\"https://colab.research.google.com/github/gabibu/aiforhealthcare/blob/main/advanced_models_colab_2.ipynb\" target=\"_parent\"><img src=\"https://colab.research.google.com/assets/colab-badge.svg\" alt=\"Open In Colab\"/></a>"
      ]
    },
    {
      "cell_type": "code",
      "execution_count": 1,
      "metadata": {
        "colab": {
          "base_uri": "https://localhost:8080/"
        },
        "id": "rLpNDt_Q8omW",
        "outputId": "e457fe06-1627-48ba-95de-b3366f4fcb98"
      },
      "outputs": [
        {
          "output_type": "stream",
          "name": "stdout",
          "text": [
            "Collecting pydicom\n",
            "  Downloading pydicom-2.3.0-py3-none-any.whl (2.0 MB)\n",
            "\u001b[?25l\r\u001b[K     |▏                               | 10 kB 35.3 MB/s eta 0:00:01\r\u001b[K     |▍                               | 20 kB 22.5 MB/s eta 0:00:01\r\u001b[K     |▌                               | 30 kB 17.0 MB/s eta 0:00:01\r\u001b[K     |▊                               | 40 kB 15.0 MB/s eta 0:00:01\r\u001b[K     |▉                               | 51 kB 7.2 MB/s eta 0:00:01\r\u001b[K     |█                               | 61 kB 8.5 MB/s eta 0:00:01\r\u001b[K     |█▏                              | 71 kB 9.3 MB/s eta 0:00:01\r\u001b[K     |█▍                              | 81 kB 8.9 MB/s eta 0:00:01\r\u001b[K     |█▌                              | 92 kB 9.9 MB/s eta 0:00:01\r\u001b[K     |█▊                              | 102 kB 8.1 MB/s eta 0:00:01\r\u001b[K     |█▉                              | 112 kB 8.1 MB/s eta 0:00:01\r\u001b[K     |██                              | 122 kB 8.1 MB/s eta 0:00:01\r\u001b[K     |██▏                             | 133 kB 8.1 MB/s eta 0:00:01\r\u001b[K     |██▍                             | 143 kB 8.1 MB/s eta 0:00:01\r\u001b[K     |██▌                             | 153 kB 8.1 MB/s eta 0:00:01\r\u001b[K     |██▊                             | 163 kB 8.1 MB/s eta 0:00:01\r\u001b[K     |██▉                             | 174 kB 8.1 MB/s eta 0:00:01\r\u001b[K     |███                             | 184 kB 8.1 MB/s eta 0:00:01\r\u001b[K     |███▏                            | 194 kB 8.1 MB/s eta 0:00:01\r\u001b[K     |███▍                            | 204 kB 8.1 MB/s eta 0:00:01\r\u001b[K     |███▌                            | 215 kB 8.1 MB/s eta 0:00:01\r\u001b[K     |███▊                            | 225 kB 8.1 MB/s eta 0:00:01\r\u001b[K     |███▉                            | 235 kB 8.1 MB/s eta 0:00:01\r\u001b[K     |████                            | 245 kB 8.1 MB/s eta 0:00:01\r\u001b[K     |████▏                           | 256 kB 8.1 MB/s eta 0:00:01\r\u001b[K     |████▍                           | 266 kB 8.1 MB/s eta 0:00:01\r\u001b[K     |████▌                           | 276 kB 8.1 MB/s eta 0:00:01\r\u001b[K     |████▊                           | 286 kB 8.1 MB/s eta 0:00:01\r\u001b[K     |████▉                           | 296 kB 8.1 MB/s eta 0:00:01\r\u001b[K     |█████                           | 307 kB 8.1 MB/s eta 0:00:01\r\u001b[K     |█████▏                          | 317 kB 8.1 MB/s eta 0:00:01\r\u001b[K     |█████▍                          | 327 kB 8.1 MB/s eta 0:00:01\r\u001b[K     |█████▌                          | 337 kB 8.1 MB/s eta 0:00:01\r\u001b[K     |█████▊                          | 348 kB 8.1 MB/s eta 0:00:01\r\u001b[K     |█████▉                          | 358 kB 8.1 MB/s eta 0:00:01\r\u001b[K     |██████                          | 368 kB 8.1 MB/s eta 0:00:01\r\u001b[K     |██████▏                         | 378 kB 8.1 MB/s eta 0:00:01\r\u001b[K     |██████▍                         | 389 kB 8.1 MB/s eta 0:00:01\r\u001b[K     |██████▌                         | 399 kB 8.1 MB/s eta 0:00:01\r\u001b[K     |██████▊                         | 409 kB 8.1 MB/s eta 0:00:01\r\u001b[K     |██████▉                         | 419 kB 8.1 MB/s eta 0:00:01\r\u001b[K     |███████                         | 430 kB 8.1 MB/s eta 0:00:01\r\u001b[K     |███████▏                        | 440 kB 8.1 MB/s eta 0:00:01\r\u001b[K     |███████▍                        | 450 kB 8.1 MB/s eta 0:00:01\r\u001b[K     |███████▌                        | 460 kB 8.1 MB/s eta 0:00:01\r\u001b[K     |███████▊                        | 471 kB 8.1 MB/s eta 0:00:01\r\u001b[K     |███████▉                        | 481 kB 8.1 MB/s eta 0:00:01\r\u001b[K     |████████                        | 491 kB 8.1 MB/s eta 0:00:01\r\u001b[K     |████████▏                       | 501 kB 8.1 MB/s eta 0:00:01\r\u001b[K     |████████▍                       | 512 kB 8.1 MB/s eta 0:00:01\r\u001b[K     |████████▌                       | 522 kB 8.1 MB/s eta 0:00:01\r\u001b[K     |████████▊                       | 532 kB 8.1 MB/s eta 0:00:01\r\u001b[K     |████████▉                       | 542 kB 8.1 MB/s eta 0:00:01\r\u001b[K     |█████████                       | 552 kB 8.1 MB/s eta 0:00:01\r\u001b[K     |█████████▏                      | 563 kB 8.1 MB/s eta 0:00:01\r\u001b[K     |█████████▍                      | 573 kB 8.1 MB/s eta 0:00:01\r\u001b[K     |█████████▌                      | 583 kB 8.1 MB/s eta 0:00:01\r\u001b[K     |█████████▊                      | 593 kB 8.1 MB/s eta 0:00:01\r\u001b[K     |█████████▉                      | 604 kB 8.1 MB/s eta 0:00:01\r\u001b[K     |██████████                      | 614 kB 8.1 MB/s eta 0:00:01\r\u001b[K     |██████████▏                     | 624 kB 8.1 MB/s eta 0:00:01\r\u001b[K     |██████████▍                     | 634 kB 8.1 MB/s eta 0:00:01\r\u001b[K     |██████████▌                     | 645 kB 8.1 MB/s eta 0:00:01\r\u001b[K     |██████████▊                     | 655 kB 8.1 MB/s eta 0:00:01\r\u001b[K     |██████████▉                     | 665 kB 8.1 MB/s eta 0:00:01\r\u001b[K     |███████████                     | 675 kB 8.1 MB/s eta 0:00:01\r\u001b[K     |███████████▏                    | 686 kB 8.1 MB/s eta 0:00:01\r\u001b[K     |███████████▍                    | 696 kB 8.1 MB/s eta 0:00:01\r\u001b[K     |███████████▌                    | 706 kB 8.1 MB/s eta 0:00:01\r\u001b[K     |███████████▊                    | 716 kB 8.1 MB/s eta 0:00:01\r\u001b[K     |███████████▉                    | 727 kB 8.1 MB/s eta 0:00:01\r\u001b[K     |████████████                    | 737 kB 8.1 MB/s eta 0:00:01\r\u001b[K     |████████████▏                   | 747 kB 8.1 MB/s eta 0:00:01\r\u001b[K     |████████████▍                   | 757 kB 8.1 MB/s eta 0:00:01\r\u001b[K     |████████████▌                   | 768 kB 8.1 MB/s eta 0:00:01\r\u001b[K     |████████████▊                   | 778 kB 8.1 MB/s eta 0:00:01\r\u001b[K     |████████████▉                   | 788 kB 8.1 MB/s eta 0:00:01\r\u001b[K     |█████████████                   | 798 kB 8.1 MB/s eta 0:00:01\r\u001b[K     |█████████████▏                  | 808 kB 8.1 MB/s eta 0:00:01\r\u001b[K     |█████████████▍                  | 819 kB 8.1 MB/s eta 0:00:01\r\u001b[K     |█████████████▌                  | 829 kB 8.1 MB/s eta 0:00:01\r\u001b[K     |█████████████▊                  | 839 kB 8.1 MB/s eta 0:00:01\r\u001b[K     |█████████████▉                  | 849 kB 8.1 MB/s eta 0:00:01\r\u001b[K     |██████████████                  | 860 kB 8.1 MB/s eta 0:00:01\r\u001b[K     |██████████████▏                 | 870 kB 8.1 MB/s eta 0:00:01\r\u001b[K     |██████████████▍                 | 880 kB 8.1 MB/s eta 0:00:01\r\u001b[K     |██████████████▌                 | 890 kB 8.1 MB/s eta 0:00:01\r\u001b[K     |██████████████▊                 | 901 kB 8.1 MB/s eta 0:00:01\r\u001b[K     |██████████████▉                 | 911 kB 8.1 MB/s eta 0:00:01\r\u001b[K     |███████████████                 | 921 kB 8.1 MB/s eta 0:00:01\r\u001b[K     |███████████████▏                | 931 kB 8.1 MB/s eta 0:00:01\r\u001b[K     |███████████████▍                | 942 kB 8.1 MB/s eta 0:00:01\r\u001b[K     |███████████████▌                | 952 kB 8.1 MB/s eta 0:00:01\r\u001b[K     |███████████████▊                | 962 kB 8.1 MB/s eta 0:00:01\r\u001b[K     |███████████████▉                | 972 kB 8.1 MB/s eta 0:00:01\r\u001b[K     |████████████████                | 983 kB 8.1 MB/s eta 0:00:01\r\u001b[K     |████████████████▏               | 993 kB 8.1 MB/s eta 0:00:01\r\u001b[K     |████████████████▍               | 1.0 MB 8.1 MB/s eta 0:00:01\r\u001b[K     |████████████████▌               | 1.0 MB 8.1 MB/s eta 0:00:01\r\u001b[K     |████████████████▊               | 1.0 MB 8.1 MB/s eta 0:00:01\r\u001b[K     |████████████████▉               | 1.0 MB 8.1 MB/s eta 0:00:01\r\u001b[K     |█████████████████               | 1.0 MB 8.1 MB/s eta 0:00:01\r\u001b[K     |█████████████████▏              | 1.1 MB 8.1 MB/s eta 0:00:01\r\u001b[K     |█████████████████▍              | 1.1 MB 8.1 MB/s eta 0:00:01\r\u001b[K     |█████████████████▌              | 1.1 MB 8.1 MB/s eta 0:00:01\r\u001b[K     |█████████████████▊              | 1.1 MB 8.1 MB/s eta 0:00:01\r\u001b[K     |█████████████████▉              | 1.1 MB 8.1 MB/s eta 0:00:01\r\u001b[K     |██████████████████              | 1.1 MB 8.1 MB/s eta 0:00:01\r\u001b[K     |██████████████████▏             | 1.1 MB 8.1 MB/s eta 0:00:01\r\u001b[K     |██████████████████▍             | 1.1 MB 8.1 MB/s eta 0:00:01\r\u001b[K     |██████████████████▌             | 1.1 MB 8.1 MB/s eta 0:00:01\r\u001b[K     |██████████████████▊             | 1.1 MB 8.1 MB/s eta 0:00:01\r\u001b[K     |██████████████████▉             | 1.2 MB 8.1 MB/s eta 0:00:01\r\u001b[K     |███████████████████             | 1.2 MB 8.1 MB/s eta 0:00:01\r\u001b[K     |███████████████████▏            | 1.2 MB 8.1 MB/s eta 0:00:01\r\u001b[K     |███████████████████▍            | 1.2 MB 8.1 MB/s eta 0:00:01\r\u001b[K     |███████████████████▌            | 1.2 MB 8.1 MB/s eta 0:00:01\r\u001b[K     |███████████████████▊            | 1.2 MB 8.1 MB/s eta 0:00:01\r\u001b[K     |███████████████████▉            | 1.2 MB 8.1 MB/s eta 0:00:01\r\u001b[K     |████████████████████            | 1.2 MB 8.1 MB/s eta 0:00:01\r\u001b[K     |████████████████████▏           | 1.2 MB 8.1 MB/s eta 0:00:01\r\u001b[K     |████████████████████▍           | 1.2 MB 8.1 MB/s eta 0:00:01\r\u001b[K     |████████████████████▌           | 1.3 MB 8.1 MB/s eta 0:00:01\r\u001b[K     |████████████████████▊           | 1.3 MB 8.1 MB/s eta 0:00:01\r\u001b[K     |████████████████████▉           | 1.3 MB 8.1 MB/s eta 0:00:01\r\u001b[K     |█████████████████████           | 1.3 MB 8.1 MB/s eta 0:00:01\r\u001b[K     |█████████████████████▏          | 1.3 MB 8.1 MB/s eta 0:00:01\r\u001b[K     |█████████████████████▍          | 1.3 MB 8.1 MB/s eta 0:00:01\r\u001b[K     |█████████████████████▌          | 1.3 MB 8.1 MB/s eta 0:00:01\r\u001b[K     |█████████████████████▊          | 1.3 MB 8.1 MB/s eta 0:00:01\r\u001b[K     |█████████████████████▉          | 1.3 MB 8.1 MB/s eta 0:00:01\r\u001b[K     |██████████████████████          | 1.4 MB 8.1 MB/s eta 0:00:01\r\u001b[K     |██████████████████████▏         | 1.4 MB 8.1 MB/s eta 0:00:01\r\u001b[K     |██████████████████████▍         | 1.4 MB 8.1 MB/s eta 0:00:01\r\u001b[K     |██████████████████████▌         | 1.4 MB 8.1 MB/s eta 0:00:01\r\u001b[K     |██████████████████████▊         | 1.4 MB 8.1 MB/s eta 0:00:01\r\u001b[K     |██████████████████████▉         | 1.4 MB 8.1 MB/s eta 0:00:01\r\u001b[K     |███████████████████████         | 1.4 MB 8.1 MB/s eta 0:00:01\r\u001b[K     |███████████████████████▏        | 1.4 MB 8.1 MB/s eta 0:00:01\r\u001b[K     |███████████████████████▍        | 1.4 MB 8.1 MB/s eta 0:00:01\r\u001b[K     |███████████████████████▌        | 1.4 MB 8.1 MB/s eta 0:00:01\r\u001b[K     |███████████████████████▊        | 1.5 MB 8.1 MB/s eta 0:00:01\r\u001b[K     |███████████████████████▉        | 1.5 MB 8.1 MB/s eta 0:00:01\r\u001b[K     |████████████████████████        | 1.5 MB 8.1 MB/s eta 0:00:01\r\u001b[K     |████████████████████████▏       | 1.5 MB 8.1 MB/s eta 0:00:01\r\u001b[K     |████████████████████████▍       | 1.5 MB 8.1 MB/s eta 0:00:01\r\u001b[K     |████████████████████████▌       | 1.5 MB 8.1 MB/s eta 0:00:01\r\u001b[K     |████████████████████████▊       | 1.5 MB 8.1 MB/s eta 0:00:01\r\u001b[K     |████████████████████████▉       | 1.5 MB 8.1 MB/s eta 0:00:01\r\u001b[K     |█████████████████████████       | 1.5 MB 8.1 MB/s eta 0:00:01\r\u001b[K     |█████████████████████████▏      | 1.5 MB 8.1 MB/s eta 0:00:01\r\u001b[K     |█████████████████████████▍      | 1.6 MB 8.1 MB/s eta 0:00:01\r\u001b[K     |█████████████████████████▌      | 1.6 MB 8.1 MB/s eta 0:00:01\r\u001b[K     |█████████████████████████▊      | 1.6 MB 8.1 MB/s eta 0:00:01\r\u001b[K     |█████████████████████████▉      | 1.6 MB 8.1 MB/s eta 0:00:01\r\u001b[K     |██████████████████████████      | 1.6 MB 8.1 MB/s eta 0:00:01\r\u001b[K     |██████████████████████████▏     | 1.6 MB 8.1 MB/s eta 0:00:01\r\u001b[K     |██████████████████████████▍     | 1.6 MB 8.1 MB/s eta 0:00:01\r\u001b[K     |██████████████████████████▌     | 1.6 MB 8.1 MB/s eta 0:00:01\r\u001b[K     |██████████████████████████▊     | 1.6 MB 8.1 MB/s eta 0:00:01\r\u001b[K     |██████████████████████████▉     | 1.6 MB 8.1 MB/s eta 0:00:01\r\u001b[K     |███████████████████████████     | 1.7 MB 8.1 MB/s eta 0:00:01\r\u001b[K     |███████████████████████████▏    | 1.7 MB 8.1 MB/s eta 0:00:01\r\u001b[K     |███████████████████████████▍    | 1.7 MB 8.1 MB/s eta 0:00:01\r\u001b[K     |███████████████████████████▌    | 1.7 MB 8.1 MB/s eta 0:00:01\r\u001b[K     |███████████████████████████▊    | 1.7 MB 8.1 MB/s eta 0:00:01\r\u001b[K     |███████████████████████████▉    | 1.7 MB 8.1 MB/s eta 0:00:01\r\u001b[K     |████████████████████████████    | 1.7 MB 8.1 MB/s eta 0:00:01\r\u001b[K     |████████████████████████████▏   | 1.7 MB 8.1 MB/s eta 0:00:01\r\u001b[K     |████████████████████████████▍   | 1.7 MB 8.1 MB/s eta 0:00:01\r\u001b[K     |████████████████████████████▌   | 1.8 MB 8.1 MB/s eta 0:00:01\r\u001b[K     |████████████████████████████▊   | 1.8 MB 8.1 MB/s eta 0:00:01\r\u001b[K     |████████████████████████████▉   | 1.8 MB 8.1 MB/s eta 0:00:01\r\u001b[K     |█████████████████████████████   | 1.8 MB 8.1 MB/s eta 0:00:01\r\u001b[K     |█████████████████████████████▏  | 1.8 MB 8.1 MB/s eta 0:00:01\r\u001b[K     |█████████████████████████████▍  | 1.8 MB 8.1 MB/s eta 0:00:01\r\u001b[K     |█████████████████████████████▌  | 1.8 MB 8.1 MB/s eta 0:00:01\r\u001b[K     |█████████████████████████████▊  | 1.8 MB 8.1 MB/s eta 0:00:01\r\u001b[K     |█████████████████████████████▉  | 1.8 MB 8.1 MB/s eta 0:00:01\r\u001b[K     |██████████████████████████████  | 1.8 MB 8.1 MB/s eta 0:00:01\r\u001b[K     |██████████████████████████████▏ | 1.9 MB 8.1 MB/s eta 0:00:01\r\u001b[K     |██████████████████████████████▍ | 1.9 MB 8.1 MB/s eta 0:00:01\r\u001b[K     |██████████████████████████████▌ | 1.9 MB 8.1 MB/s eta 0:00:01\r\u001b[K     |██████████████████████████████▊ | 1.9 MB 8.1 MB/s eta 0:00:01\r\u001b[K     |██████████████████████████████▉ | 1.9 MB 8.1 MB/s eta 0:00:01\r\u001b[K     |███████████████████████████████ | 1.9 MB 8.1 MB/s eta 0:00:01\r\u001b[K     |███████████████████████████████▏| 1.9 MB 8.1 MB/s eta 0:00:01\r\u001b[K     |███████████████████████████████▍| 1.9 MB 8.1 MB/s eta 0:00:01\r\u001b[K     |███████████████████████████████▌| 1.9 MB 8.1 MB/s eta 0:00:01\r\u001b[K     |███████████████████████████████▊| 1.9 MB 8.1 MB/s eta 0:00:01\r\u001b[K     |███████████████████████████████▉| 2.0 MB 8.1 MB/s eta 0:00:01\r\u001b[K     |████████████████████████████████| 2.0 MB 8.1 MB/s \n",
            "\u001b[?25hInstalling collected packages: pydicom\n",
            "Successfully installed pydicom-2.3.0\n"
          ]
        }
      ],
      "source": [
        "!pip install pydicom"
      ]
    },
    {
      "cell_type": "code",
      "source": [
        "from torch.utils.data import Dataset, WeightedRandomSampler\n",
        "from skimage import io, transform\n",
        "import os\n",
        "import pandas as pd\n",
        "from PIL import Image\n",
        "import random\n",
        "import numpy as np\n",
        "from torchvision import transforms, datasets\n",
        "import torch\n",
        "from torch.autograd import Variable\n",
        "import torch.nn as nn\n",
        "import torch.nn.functional as F\n",
        "import numpy as np\n",
        "from imageio import imread\n",
        "import torch\n",
        "from torch.utils.data import Dataset, DataLoader\n",
        "import seaborn as sns\n",
        "import matplotlib.pyplot as plt\n",
        "from torch.utils.data import Dataset, DataLoader\n",
        "import itertools\n",
        "import numpy as np\n",
        "import matplotlib.pyplot as plt\n",
        "from sklearn import svm, datasets\n",
        "from sklearn.model_selection import train_test_split\n",
        "from sklearn.metrics import confusion_matrix\n",
        "import seaborn as sn\n",
        "import pandas as pd\n",
        "import matplotlib.pyplot as plt\n",
        "from tqdm import tqdm\n",
        "import sys\n",
        "import glob\n",
        "import torch\n",
        "import torch.nn as nn\n",
        "import torch.nn.functional as F\n",
        "from matplotlib import cm\n",
        "\n",
        "import pydicom\n",
        "from abc import ABC, abstractmethod\n",
        "from torchvision.transforms import RandomHorizontalFlip, RandomVerticalFlip, RandomRotation\n",
        "from sklearn.model_selection import train_test_split"
      ],
      "metadata": {
        "id": "o5WW9fOG8yGv"
      },
      "execution_count": 2,
      "outputs": []
    },
    {
      "cell_type": "code",
      "source": [
        "def mask2rle(img, width, height):\n",
        "    rle = []\n",
        "    lastColor = 0;\n",
        "    currentPixel = 0;\n",
        "    runStart = -1;\n",
        "    runLength = 0;\n",
        "\n",
        "    for x in range(width):\n",
        "        for y in range(height):\n",
        "            currentColor = img[x][y]\n",
        "            if currentColor != lastColor:\n",
        "                if currentColor == 255:\n",
        "                    runStart = currentPixel;\n",
        "                    runLength = 1;\n",
        "                else:\n",
        "                    rle.append(str(runStart));\n",
        "                    rle.append(str(runLength));\n",
        "                    runStart = -1;\n",
        "                    runLength = 0;\n",
        "                    currentPixel = 0;\n",
        "            elif runStart > -1:\n",
        "                runLength += 1\n",
        "            lastColor = currentColor;\n",
        "            currentPixel+=1;\n",
        "\n",
        "    return \" \".join(rle)\n",
        "\n",
        "def rle2mask(rle, width, height):\n",
        "    mask= np.zeros(width* height)\n",
        "    array = np.asarray([int(x) for x in rle.split()])\n",
        "    starts = array[0::2]\n",
        "    lengths = array[1::2]\n",
        "\n",
        "    current_position = 0\n",
        "    for index, start in enumerate(starts):\n",
        "        current_position += start\n",
        "        mask[current_position:current_position+lengths[index]] = 255\n",
        "        current_position += lengths[index]\n",
        "\n",
        "    return mask.reshape(width, height)\n"
      ],
      "metadata": {
        "id": "qpIf5f4r80BT"
      },
      "execution_count": 3,
      "outputs": []
    },
    {
      "cell_type": "code",
      "source": [
        "print('__pyTorch VERSION:', torch.__version__)\n",
        "use_cuda = torch.cuda.is_available()\n",
        "print('use_cuda = {0}'.format(use_cuda))\n",
        "device = 'cuda' if torch.cuda.is_available() else 'cpu'\n",
        "\n",
        "DATA_FOLDER ='data'\n",
        "device"
      ],
      "metadata": {
        "colab": {
          "base_uri": "https://localhost:8080/",
          "height": 69
        },
        "id": "wXonbcyb81zy",
        "outputId": "2f4533e5-2069-40b1-c0c4-fed63b26c743"
      },
      "execution_count": 4,
      "outputs": [
        {
          "output_type": "stream",
          "name": "stdout",
          "text": [
            "__pyTorch VERSION: 1.11.0+cu113\n",
            "use_cuda = True\n"
          ]
        },
        {
          "output_type": "execute_result",
          "data": {
            "text/plain": [
              "'cuda'"
            ],
            "application/vnd.google.colaboratory.intrinsic+json": {
              "type": "string"
            }
          },
          "metadata": {},
          "execution_count": 4
        }
      ]
    },
    {
      "cell_type": "code",
      "source": [
        "from google.colab import drive\n",
        "drive.mount('/content/drive')"
      ],
      "metadata": {
        "colab": {
          "base_uri": "https://localhost:8080/"
        },
        "id": "_SGNjIDb84Ki",
        "outputId": "0ea54c73-1282-454a-e98c-28c3cabb2d4c"
      },
      "execution_count": 5,
      "outputs": [
        {
          "output_type": "stream",
          "name": "stdout",
          "text": [
            "Mounted at /content/drive\n"
          ]
        }
      ]
    },
    {
      "cell_type": "code",
      "source": [
        "!ls \"/content/drive/My Drive/medical\"\n"
      ],
      "metadata": {
        "id": "JIY1qbER_a8g",
        "outputId": "5e22f5a3-dcf5-40ab-cfc0-7c883a59f321",
        "colab": {
          "base_uri": "https://localhost:8080/"
        }
      },
      "execution_count": 7,
      "outputs": [
        {
          "output_type": "stream",
          "name": "stdout",
          "text": [
            "aug.weights\t\tsimple_preprocessing.weights  weighted_2.weights\n",
            "dicom-images-train.zip\ttrain-rle.csv\t\t      weighted_sampling.weights\n"
          ]
        }
      ]
    },
    {
      "cell_type": "code",
      "source": [
        "!cp \"/content/drive/My Drive/medical/dicom-images-train.zip\" \"dicom-images-train.zip\"\n"
      ],
      "metadata": {
        "id": "EHkymXwS_dUM"
      },
      "execution_count": 8,
      "outputs": []
    },
    {
      "cell_type": "code",
      "source": [
        "!cp '/content/drive/My Drive/medical/train-rle.csv' \"train-rle.csv\"\n"
      ],
      "metadata": {
        "id": "QWSV58ND_fav"
      },
      "execution_count": 9,
      "outputs": []
    },
    {
      "cell_type": "code",
      "source": [
        "!ls"
      ],
      "metadata": {
        "id": "oAV8JeNI_hOe",
        "outputId": "b66fbcd1-2fc0-40b6-9ae7-5b2a42c99813",
        "colab": {
          "base_uri": "https://localhost:8080/"
        }
      },
      "execution_count": 10,
      "outputs": [
        {
          "output_type": "stream",
          "name": "stdout",
          "text": [
            "dicom-images-train.zip\tdrive  sample_data  train-rle.csv\n"
          ]
        }
      ]
    },
    {
      "cell_type": "code",
      "source": [
        "!unzip  -q dicom-images-train.zip -d data \n"
      ],
      "metadata": {
        "id": "rRm5Sb7S_jxF"
      },
      "execution_count": 11,
      "outputs": []
    },
    {
      "cell_type": "code",
      "source": [
        "SEED = 999\n",
        "\n",
        "def fixSeed(seed):\n",
        "    random.seed(seed)\n",
        "    np.random.seed(seed)\n",
        "    torch.manual_seed(seed)\n",
        "    if use_cuda:\n",
        "        torch.cuda.manual_seed(seed)\n",
        "        torch.cuda.manual_seed_all(seed)\n",
        "\n",
        "fixSeed(SEED)\n",
        "SEED"
      ],
      "metadata": {
        "id": "eV6fF_SE_nNG",
        "outputId": "b9708175-a151-4312-ca20-0677c96c0c13",
        "colab": {
          "base_uri": "https://localhost:8080/"
        }
      },
      "execution_count": 12,
      "outputs": [
        {
          "output_type": "execute_result",
          "data": {
            "text/plain": [
              "999"
            ]
          },
          "metadata": {},
          "execution_count": 12
        }
      ]
    },
    {
      "cell_type": "code",
      "source": [
        "# df = pd.read_csv('train-rle.csv', header=None, index_col=0)\n",
        "# train_fns = sorted(glob.glob('data/dicom-images-train/*/*/*.dcm'))\n",
        "# len(train_fns)\n",
        "# df_full = pd.read_csv('train-rle.csv', index_col='ImageId')\n",
        "# df_full.sample(1)"
      ],
      "metadata": {
        "id": "a2D252K7_ph9"
      },
      "execution_count": null,
      "outputs": []
    },
    {
      "cell_type": "code",
      "source": [
        "! ls data"
      ],
      "metadata": {
        "id": "tGwpHi5a_xi9",
        "outputId": "ac5f9748-a3a3-4c71-dd0d-50f9333eda43",
        "colab": {
          "base_uri": "https://localhost:8080/"
        }
      },
      "execution_count": 14,
      "outputs": [
        {
          "output_type": "stream",
          "name": "stdout",
          "text": [
            "dicom-images-train\n"
          ]
        }
      ]
    },
    {
      "cell_type": "code",
      "source": [
        "train_imgs_paths = sorted(glob.glob('data/dicom-images-train/*/*/*.dcm'))\n",
        "print(\"Train images size {}\".format(len(train_imgs_paths)))\n",
        "\n",
        "# test_imgs_paths = sorted(glob('../input/siim-acr-pneumothorax-segmentation-data/dicom-images-test/*/*/*.dcm'))\n",
        "# print(\"Test images -\", len(test_imgs_paths))\n",
        "# file_paths = train_imgs_paths + test_imgs_paths"
      ],
      "metadata": {
        "id": "N8f4zLyU_wo9",
        "outputId": "1328358c-f83c-4cbd-f63e-9f5945f34dc7",
        "colab": {
          "base_uri": "https://localhost:8080/"
        }
      },
      "execution_count": 15,
      "outputs": [
        {
          "output_type": "stream",
          "name": "stdout",
          "text": [
            "Train images size 10712\n"
          ]
        }
      ]
    },
    {
      "cell_type": "code",
      "source": [
        "# data_df = pd.read_csv('train-rle.csv')\n",
        "# data_df.rename(columns={\" EncodedPixels\" : \"EncodedPixels\"}, inplace=True) # a typo in the csv\n",
        "# data_df.head()\n",
        "from collections import defaultdict\n",
        "\n",
        "rles_df = pd.read_csv('train-rle.csv')\n",
        "rles_df = rles_df.rename(columns={' EncodedPixels':'EncodedPixels'})\n",
        "rles_df['EncodedPixels'] = rles_df['EncodedPixels'].apply(lambda x: x.strip())\n",
        "\n",
        "# Create a dictionary for images with masks\n",
        "rles_df = rles_df[rles_df['EncodedPixels'] !='-1'].groupby('ImageId')['EncodedPixels'].apply(list).reset_index()\n",
        "print(len(rles_df))\n",
        "\n",
        "masks = {}\n",
        "for index, row in rles_df.iterrows():\n",
        "    masks[row['ImageId']] = row['EncodedPixels']\n",
        "print(len(masks))"
      ],
      "metadata": {
        "id": "Lv2wHMTfAONf",
        "outputId": "8343a0e6-3ff4-4064-87a3-817cc12004ce",
        "colab": {
          "base_uri": "https://localhost:8080/"
        }
      },
      "execution_count": 25,
      "outputs": [
        {
          "output_type": "stream",
          "name": "stdout",
          "text": [
            "2379\n",
            "2379\n"
          ]
        }
      ]
    },
    {
      "cell_type": "code",
      "source": [
        "dataset_rows = []\n",
        "for image_path in train_imgs_paths:\n",
        "  id = image_path.split('/')[-1][:-4]\n",
        "  \n",
        "  mask = masks[id] if id in masks else None\n",
        "  dataset_rows.append((id, mask, image_path))\n",
        "\n",
        "dataset_df = pd.DataFrame(dataset_rows, columns = ['image_id', 'mask', 'image_path'])\n",
        "dataset_df.sample(3)\n"
      ],
      "metadata": {
        "id": "LhbtnCTeFzp0",
        "outputId": "135bda35-8c59-4db3-a372-92b3f2c95f80",
        "colab": {
          "base_uri": "https://localhost:8080/",
          "height": 142
        }
      },
      "execution_count": 18,
      "outputs": [
        {
          "output_type": "execute_result",
          "data": {
            "text/plain": [
              "                                                image_id  \\\n",
              "9104   1.2.276.0.7230010.3.1.4.8323329.4329.151787518...   \n",
              "1436   1.2.276.0.7230010.3.1.4.8323329.11314.15178752...   \n",
              "10277  1.2.276.0.7230010.3.1.4.8323329.540.1517875163...   \n",
              "\n",
              "                                                    mask  \\\n",
              "9104   [191086 2 1017 8 1012 12 1009 14 1008 15 1007 ...   \n",
              "1436   [338146 2 1020 3 1019 5 1017 7 1016 7 1015 8 1...   \n",
              "10277                                               None   \n",
              "\n",
              "                                              image_path  \n",
              "9104   data/dicom-images-train/1.2.276.0.7230010.3.1....  \n",
              "1436   data/dicom-images-train/1.2.276.0.7230010.3.1....  \n",
              "10277  data/dicom-images-train/1.2.276.0.7230010.3.1....  "
            ],
            "text/html": [
              "\n",
              "  <div id=\"df-d713c66c-429a-4920-8470-f1873f877d28\">\n",
              "    <div class=\"colab-df-container\">\n",
              "      <div>\n",
              "<style scoped>\n",
              "    .dataframe tbody tr th:only-of-type {\n",
              "        vertical-align: middle;\n",
              "    }\n",
              "\n",
              "    .dataframe tbody tr th {\n",
              "        vertical-align: top;\n",
              "    }\n",
              "\n",
              "    .dataframe thead th {\n",
              "        text-align: right;\n",
              "    }\n",
              "</style>\n",
              "<table border=\"1\" class=\"dataframe\">\n",
              "  <thead>\n",
              "    <tr style=\"text-align: right;\">\n",
              "      <th></th>\n",
              "      <th>image_id</th>\n",
              "      <th>mask</th>\n",
              "      <th>image_path</th>\n",
              "    </tr>\n",
              "  </thead>\n",
              "  <tbody>\n",
              "    <tr>\n",
              "      <th>9104</th>\n",
              "      <td>1.2.276.0.7230010.3.1.4.8323329.4329.151787518...</td>\n",
              "      <td>[191086 2 1017 8 1012 12 1009 14 1008 15 1007 ...</td>\n",
              "      <td>data/dicom-images-train/1.2.276.0.7230010.3.1....</td>\n",
              "    </tr>\n",
              "    <tr>\n",
              "      <th>1436</th>\n",
              "      <td>1.2.276.0.7230010.3.1.4.8323329.11314.15178752...</td>\n",
              "      <td>[338146 2 1020 3 1019 5 1017 7 1016 7 1015 8 1...</td>\n",
              "      <td>data/dicom-images-train/1.2.276.0.7230010.3.1....</td>\n",
              "    </tr>\n",
              "    <tr>\n",
              "      <th>10277</th>\n",
              "      <td>1.2.276.0.7230010.3.1.4.8323329.540.1517875163...</td>\n",
              "      <td>None</td>\n",
              "      <td>data/dicom-images-train/1.2.276.0.7230010.3.1....</td>\n",
              "    </tr>\n",
              "  </tbody>\n",
              "</table>\n",
              "</div>\n",
              "      <button class=\"colab-df-convert\" onclick=\"convertToInteractive('df-d713c66c-429a-4920-8470-f1873f877d28')\"\n",
              "              title=\"Convert this dataframe to an interactive table.\"\n",
              "              style=\"display:none;\">\n",
              "        \n",
              "  <svg xmlns=\"http://www.w3.org/2000/svg\" height=\"24px\"viewBox=\"0 0 24 24\"\n",
              "       width=\"24px\">\n",
              "    <path d=\"M0 0h24v24H0V0z\" fill=\"none\"/>\n",
              "    <path d=\"M18.56 5.44l.94 2.06.94-2.06 2.06-.94-2.06-.94-.94-2.06-.94 2.06-2.06.94zm-11 1L8.5 8.5l.94-2.06 2.06-.94-2.06-.94L8.5 2.5l-.94 2.06-2.06.94zm10 10l.94 2.06.94-2.06 2.06-.94-2.06-.94-.94-2.06-.94 2.06-2.06.94z\"/><path d=\"M17.41 7.96l-1.37-1.37c-.4-.4-.92-.59-1.43-.59-.52 0-1.04.2-1.43.59L10.3 9.45l-7.72 7.72c-.78.78-.78 2.05 0 2.83L4 21.41c.39.39.9.59 1.41.59.51 0 1.02-.2 1.41-.59l7.78-7.78 2.81-2.81c.8-.78.8-2.07 0-2.86zM5.41 20L4 18.59l7.72-7.72 1.47 1.35L5.41 20z\"/>\n",
              "  </svg>\n",
              "      </button>\n",
              "      \n",
              "  <style>\n",
              "    .colab-df-container {\n",
              "      display:flex;\n",
              "      flex-wrap:wrap;\n",
              "      gap: 12px;\n",
              "    }\n",
              "\n",
              "    .colab-df-convert {\n",
              "      background-color: #E8F0FE;\n",
              "      border: none;\n",
              "      border-radius: 50%;\n",
              "      cursor: pointer;\n",
              "      display: none;\n",
              "      fill: #1967D2;\n",
              "      height: 32px;\n",
              "      padding: 0 0 0 0;\n",
              "      width: 32px;\n",
              "    }\n",
              "\n",
              "    .colab-df-convert:hover {\n",
              "      background-color: #E2EBFA;\n",
              "      box-shadow: 0px 1px 2px rgba(60, 64, 67, 0.3), 0px 1px 3px 1px rgba(60, 64, 67, 0.15);\n",
              "      fill: #174EA6;\n",
              "    }\n",
              "\n",
              "    [theme=dark] .colab-df-convert {\n",
              "      background-color: #3B4455;\n",
              "      fill: #D2E3FC;\n",
              "    }\n",
              "\n",
              "    [theme=dark] .colab-df-convert:hover {\n",
              "      background-color: #434B5C;\n",
              "      box-shadow: 0px 1px 3px 1px rgba(0, 0, 0, 0.15);\n",
              "      filter: drop-shadow(0px 1px 2px rgba(0, 0, 0, 0.3));\n",
              "      fill: #FFFFFF;\n",
              "    }\n",
              "  </style>\n",
              "\n",
              "      <script>\n",
              "        const buttonEl =\n",
              "          document.querySelector('#df-d713c66c-429a-4920-8470-f1873f877d28 button.colab-df-convert');\n",
              "        buttonEl.style.display =\n",
              "          google.colab.kernel.accessAllowed ? 'block' : 'none';\n",
              "\n",
              "        async function convertToInteractive(key) {\n",
              "          const element = document.querySelector('#df-d713c66c-429a-4920-8470-f1873f877d28');\n",
              "          const dataTable =\n",
              "            await google.colab.kernel.invokeFunction('convertToInteractive',\n",
              "                                                     [key], {});\n",
              "          if (!dataTable) return;\n",
              "\n",
              "          const docLinkHtml = 'Like what you see? Visit the ' +\n",
              "            '<a target=\"_blank\" href=https://colab.research.google.com/notebooks/data_table.ipynb>data table notebook</a>'\n",
              "            + ' to learn more about interactive tables.';\n",
              "          element.innerHTML = '';\n",
              "          dataTable['output_type'] = 'display_data';\n",
              "          await google.colab.output.renderOutput(dataTable, element);\n",
              "          const docLink = document.createElement('div');\n",
              "          docLink.innerHTML = docLinkHtml;\n",
              "          element.appendChild(docLink);\n",
              "        }\n",
              "      </script>\n",
              "    </div>\n",
              "  </div>\n",
              "  "
            ]
          },
          "metadata": {},
          "execution_count": 18
        }
      ]
    },
    {
      "cell_type": "code",
      "source": [
        "X_train_df, X_val_df = train_test_split(dataset_df, test_size=0.1, random_state=SEED)\n",
        "X_train_df.shape, X_val_df.shape"
      ],
      "metadata": {
        "id": "k8E6UdqpBD3X",
        "outputId": "c6f0d361-5a96-4a99-ea9c-2dab0ece28f8",
        "colab": {
          "base_uri": "https://localhost:8080/"
        }
      },
      "execution_count": 19,
      "outputs": [
        {
          "output_type": "execute_result",
          "data": {
            "text/plain": [
              "((9640, 3), (1072, 3))"
            ]
          },
          "metadata": {},
          "execution_count": 19
        }
      ]
    },
    {
      "cell_type": "code",
      "source": [
        ""
      ],
      "metadata": {
        "id": "tr0q7fZuF0Pg"
      },
      "execution_count": null,
      "outputs": []
    },
    {
      "cell_type": "code",
      "source": [
        "class ImagesDataset(Dataset):\n",
        "    def __init__(self, df, image_size = 128, preprocesing = None):\n",
        "        self.df = df\n",
        "        self.preprocesing = preprocesing\n",
        "        self.image_size = image_size\n",
        "        \n",
        "      \n",
        "    def __len__(self):\n",
        "        return len(self.df)\n",
        "\n",
        "    def __getitem__(self, index):\n",
        "        \n",
        "        row = self.df[index]\n",
        "\n",
        "        X = np.zeros((self.img_size, self.img_size))\n",
        "        y = np.zeros((self.img_size, self.img_size))\n",
        "\n",
        "        image_path = row['image_path']\n",
        "\n",
        "        image = pydicom.read_file(image_path).pixel_array\n",
        "        image_resized = cv2.resize(image, (self.img_size, self.img_size))\n",
        "        image_resized = np.array(image_resized, dtype=np.float64)\n",
        "\n",
        "\n",
        "        mask = np.zeros((1024, 1024))\n",
        "        \n"
      ],
      "metadata": {
        "id": "0XyFEeGEFWts"
      },
      "execution_count": null,
      "outputs": []
    }
  ]
}